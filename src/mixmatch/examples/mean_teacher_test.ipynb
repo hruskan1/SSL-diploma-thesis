{
 "cells": [
  {
   "cell_type": "code",
   "execution_count": 18,
   "metadata": {},
   "outputs": [
    {
     "name": "stdout",
     "output_type": "stream",
     "text": [
      "The autoreload extension is already loaded. To reload it, use:\n",
      "  %reload_ext autoreload\n",
      "Parameter containing:\n",
      "tensor([[-0.4590],\n",
      "        [ 0.1209],\n",
      "        [-0.1387],\n",
      "        [-0.7804],\n",
      "        [-0.3092]], requires_grad=True) torch.Size([5, 1])\n",
      "Parameter containing:\n",
      "tensor([[1.7972],\n",
      "        [2.7664],\n",
      "        [4.2086],\n",
      "        [3.4214],\n",
      "        [3.6969]], requires_grad=True) torch.Size([5, 1])\n",
      "Parameter containing:\n",
      "tensor([[-0.4590],\n",
      "        [ 0.1209],\n",
      "        [-0.1387],\n",
      "        [-0.7804],\n",
      "        [-0.3092]]) torch.Size([5, 1])\n",
      "Parameter containing:\n",
      "tensor([[0.6691],\n",
      "        [1.4436],\n",
      "        [2.0349],\n",
      "        [1.3205],\n",
      "        [1.6939]]) torch.Size([5, 1])\n"
     ]
    }
   ],
   "source": [
    "%load_ext autoreload\n",
    "%autoreload 2\n",
    "%matplotlib inline\n",
    "\n",
    "\n",
    "import torchvision.transforms as transforms\n",
    "import matplotlib.pyplot as plt \n",
    "import sys\n",
    "import torch\n",
    "\n",
    "sys.path.append(\"..\")\n",
    "import models \n",
    "\n",
    "student = models.MLP(layers=[1,5,2])\n",
    "teacher = models.Mean_Teacher(student,alpha=0.5)\n",
    "\n",
    "# make noise in student weights\n",
    "with torch.no_grad():\n",
    "    for p in student.parameters():\n",
    "            print(p,p.shape)\n",
    "            p.data = p.data + torch.rand(p.shape)*5\n",
    "            break\n",
    "\n",
    "for p in student.parameters():\n",
    "    print(p,p.shape)\n",
    "    break\n",
    "\n",
    "\n",
    "for p in teacher.parameters():\n",
    "    print(p,p.shape)\n",
    "    break\n",
    "\n",
    "teacher.update_weights(student)\n",
    "\n",
    "for p in teacher.parameters():\n",
    "    print(p,p.shape)\n",
    "    break"
   ]
  }
 ],
 "metadata": {
  "kernelspec": {
   "display_name": "gpu",
   "language": "python",
   "name": "python3"
  },
  "language_info": {
   "codemirror_mode": {
    "name": "ipython",
    "version": 3
   },
   "file_extension": ".py",
   "mimetype": "text/x-python",
   "name": "python",
   "nbconvert_exporter": "python",
   "pygments_lexer": "ipython3",
   "version": "3.10.9"
  },
  "orig_nbformat": 4
 },
 "nbformat": 4,
 "nbformat_minor": 2
}
