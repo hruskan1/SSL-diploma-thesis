{
 "cells": [
  {
   "cell_type": "code",
   "execution_count": 1,
   "metadata": {},
   "outputs": [
    {
     "name": "stderr",
     "output_type": "stream",
     "text": [
      "/datagrid/personal/hruskan1/miniconda3/envs/gpu/lib/python3.10/site-packages/tqdm/auto.py:22: TqdmWarning: IProgress not found. Please update jupyter and ipywidgets. See https://ipywidgets.readthedocs.io/en/stable/user_install.html\n",
      "  from .autonotebook import tqdm as notebook_tqdm\n"
     ]
    },
    {
     "ename": "AttributeError",
     "evalue": "module 'torchvision.transforms' has no attribute 'RandomTransforms'",
     "output_type": "error",
     "traceback": [
      "\u001b[0;31m---------------------------------------------------------------------------\u001b[0m",
      "\u001b[0;31mAttributeError\u001b[0m                            Traceback (most recent call last)",
      "Cell \u001b[0;32mIn[1], line 10\u001b[0m\n\u001b[1;32m      8\u001b[0m \u001b[39mimport\u001b[39;00m \u001b[39msys\u001b[39;00m\n\u001b[1;32m      9\u001b[0m sys\u001b[39m.\u001b[39mpath\u001b[39m.\u001b[39mappend(\u001b[39m\"\u001b[39m\u001b[39m..\u001b[39m\u001b[39m\"\u001b[39m)\n\u001b[0;32m---> 10\u001b[0m \u001b[39mimport\u001b[39;00m \u001b[39mtransformations\u001b[39;00m \u001b[39mas\u001b[39;00m \u001b[39mcustom_transforms\u001b[39;00m\n\u001b[1;32m     11\u001b[0m \u001b[39mimport\u001b[39;00m \u001b[39mdatasets\u001b[39;00m \u001b[39mas\u001b[39;00m \u001b[39mdatasets\u001b[39;00m\n\u001b[1;32m     13\u001b[0m \u001b[39m# do not use transorms.ToTensor(),already implemented implicitly. \u001b[39;00m\n",
      "File \u001b[0;32m/mnt/datagrid/personal/hruskan1/SSL-diploma-thesis/mixmatch/examples/../transformations.py:91\u001b[0m\n\u001b[1;32m     87\u001b[0m             outputs\u001b[39m.\u001b[39mappend(TF\u001b[39m.\u001b[39mperspective(img, startpoints, endpoints, \u001b[39mself\u001b[39m\u001b[39m.\u001b[39minterpolation, fill))\n\u001b[1;32m     89\u001b[0m         \u001b[39mreturn\u001b[39;00m outputs\n\u001b[0;32m---> 91\u001b[0m \u001b[39mclass\u001b[39;00m \u001b[39mRandomOrder\u001b[39;00m(tv_trans\u001b[39m.\u001b[39;49mRandomTransforms):\n\u001b[1;32m     92\u001b[0m     \u001b[39m\"\"\"Wrapper around RandomOrder on multiple inputs\u001b[39;00m\n\u001b[1;32m     93\u001b[0m \u001b[39m        https://pytorch.org/vision/0.14/generated/torchvision.transforms.RandomOrder.html#torchvision.transforms.RandomOrder\u001b[39;00m\n\u001b[1;32m     94\u001b[0m \u001b[39m        https://pytorch.org/vision/0.14/_modules/torchvision/transforms/transforms.html#RandomOrder\u001b[39;00m\n\u001b[1;32m     95\u001b[0m \u001b[39m    \"\"\"\u001b[39;00m\n\u001b[1;32m     97\u001b[0m     \u001b[39mdef\u001b[39;00m \u001b[39m__call__\u001b[39m(\u001b[39mself\u001b[39m, \u001b[39m*\u001b[39margs):\n",
      "\u001b[0;31mAttributeError\u001b[0m: module 'torchvision.transforms' has no attribute 'RandomTransforms'"
     ]
    }
   ],
   "source": [
    "%load_ext autoreload\n",
    "%autoreload 2\n",
    "%matplotlib inline\n",
    "\n",
    "\n",
    "import matplotlib.pyplot as plt \n",
    "import torchvision\n",
    "import sys\n",
    "sys.path.append(\"..\")\n",
    "import transformations as custom_transforms\n",
    "import datasets as datasets\n",
    "\n",
    "# do not use transorms.ToTensor(),already implemented implicitly. \n",
    "\n",
    "L = datasets.SegmentationDatasetLabeled(\n",
    "    dir_images=\"./my_dataset/images/\",\n",
    "    dir_masks=\"./my_dataset/masks/\",\n",
    "    \n",
    ")\n",
    "\n",
    "gaussian_blur = custom_transforms.GaussianBlur(9,1000)\n",
    "random_affine = custom_transforms.RandomAffine(\n",
    "    degrees=50,\n",
    "    translate=(0.05, 0.05),\n",
    "    scale=(0.95, 1.05)\n",
    ")\n",
    "random_prespective = custom_transforms.RandomPerspective(p=1)\n",
    "\n",
    "\n",
    "\n",
    "\n",
    "transforamtions = [gaussian_blur,random_affine,random_prespective]\n",
    "t_choice = torchvision.transforms.RandomChoice(transforamtions)\n",
    "t_order = custom_transforms.RandomApply(transforamtions)\n",
    "for i in range(len(L)):\n",
    "    img_, mask_ = L[i]\n",
    "    mask_ = mask_[:,:,:]\n",
    "    img_, mask_ = t_order(img_,mask_)\n",
    "    \n",
    "    print(img_.size())\n",
    "    print(mask_.size())\n",
    "\n",
    "    img__ = img_.permute(1, 2, 0)\n",
    "    mask__ = mask_.permute(1, 2, 0)\n",
    "    plt.imshow(img__)\n",
    "    plt.figure()\n",
    "    plt.imshow(mask__)\n",
    "    plt.show()"
   ]
  }
 ],
 "metadata": {
  "kernelspec": {
   "display_name": "gpu",
   "language": "python",
   "name": "python3"
  },
  "language_info": {
   "codemirror_mode": {
    "name": "ipython",
    "version": 3
   },
   "file_extension": ".py",
   "mimetype": "text/x-python",
   "name": "python",
   "nbconvert_exporter": "python",
   "pygments_lexer": "ipython3",
   "version": "3.10.9"
  },
  "orig_nbformat": 4
 },
 "nbformat": 4,
 "nbformat_minor": 2
}
